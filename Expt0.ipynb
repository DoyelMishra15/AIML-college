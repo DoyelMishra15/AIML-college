{
 "cells": [
  {
   "cell_type": "markdown",
   "id": "bfc34fe3-27ec-4258-8e51-d3c591a23795",
   "metadata": {},
   "source": [
    "## WAP to implement ununiformed search: DFS, BFS"
   ]
  },
  {
   "cell_type": "code",
   "execution_count": 1,
   "id": "149c1224-00eb-459c-a822-7cf5ae3f97a9",
   "metadata": {},
   "outputs": [],
   "source": [
    "def dfs(ele, node, visited=None):\n",
    "    if visited is None:\n",
    "        visited=set()\n",
    "    if node not in visited:\n",
    "        print(node, end=\" \")\n",
    "        visited.add(node)\n",
    "    for e in ele[node]:\n",
    "        dfs(ele, e, visited)"
   ]
  },
  {
   "cell_type": "code",
   "execution_count": 2,
   "id": "f1cfcb30-6f61-4082-9595-cec79cbf555f",
   "metadata": {},
   "outputs": [
    {
     "name": "stdout",
     "output_type": "stream",
     "text": [
      "15 20 35 40 50 60 70 "
     ]
    }
   ],
   "source": [
    "graph ={\n",
    "    '15':['20','50'],\n",
    "    '20':['35','40'],\n",
    "    '50':['60','70'],\n",
    "    '35':[],\n",
    "    '40':[],\n",
    "    '60':[],\n",
    "    '70':[],\n",
    "}\n",
    "\n",
    "dfs(graph, '15')"
   ]
  },
  {
   "cell_type": "code",
   "execution_count": 3,
   "id": "10dbec7c-772d-4801-b880-36de37410e0c",
   "metadata": {},
   "outputs": [],
   "source": [
    "def bfs(graph, start):\n",
    "    visited = set()\n",
    "    queue = [start]\n",
    "\n",
    "    while queue:\n",
    "        node = queue.pop(0)\n",
    "\n",
    "        if node not in visited:\n",
    "            print(node, end=\" \")\n",
    "            visited.add(node)\n",
    "            queue.extend(graph[node])"
   ]
  },
  {
   "cell_type": "code",
   "execution_count": 4,
   "id": "cc54187a-7880-43dc-a951-7d766b22c648",
   "metadata": {},
   "outputs": [
    {
     "name": "stdout",
     "output_type": "stream",
     "text": [
      "15 20 50 35 40 60 70 "
     ]
    }
   ],
   "source": [
    "bfs(graph, '15')"
   ]
  },
  {
   "cell_type": "markdown",
   "id": "bd4bfad7-3e8f-41a6-8646-7478e7d23dfa",
   "metadata": {},
   "source": [
    "## Binary Search Tree: pre order, in order, post order"
   ]
  },
  {
   "cell_type": "code",
   "execution_count": 5,
   "id": "abe51579-3725-412c-90c8-924da56cbce9",
   "metadata": {},
   "outputs": [],
   "source": [
    "def insert(tree, key):\n",
    "    if tree is None:\n",
    "        return {'data': key, 'left': None, 'right': None}\n",
    "    if key < tree['data']:\n",
    "        tree['left'] = insert(tree['left'], key)\n",
    "    else:\n",
    "        tree['right'] = insert(tree['right'], key)\n",
    "    return tree"
   ]
  },
  {
   "cell_type": "code",
   "execution_count": 6,
   "id": "04515676-3408-43c1-b634-10b01295b509",
   "metadata": {},
   "outputs": [],
   "source": [
    "def inorder(tree):\n",
    "    if tree:\n",
    "        inorder(tree['left'])\n",
    "        print(tree['data'], end=' ')\n",
    "        inorder(tree['right'])\n",
    "\n",
    "def preorder(tree):\n",
    "    if tree:\n",
    "        print(tree['data'], end=' ')\n",
    "        preorder(tree['left'])\n",
    "        preorder(tree['right'])\n",
    "\n",
    "def postorder(tree):\n",
    "    if tree:\n",
    "        postorder(tree['left'])\n",
    "        postorder(tree['right'])\n",
    "        print(tree['data'], end=' ')"
   ]
  },
  {
   "cell_type": "code",
   "execution_count": 7,
   "id": "b5ba7e49-6097-4688-9e42-c1007952acc5",
   "metadata": {},
   "outputs": [
    {
     "name": "stdout",
     "output_type": "stream",
     "text": [
      "Inorder:\n",
      "10 20 30 40 50 60 70 \n",
      "Preorder:\n",
      "40 20 10 30 60 50 70 \n",
      "Postorder:\n",
      "10 30 20 50 70 60 40 "
     ]
    }
   ],
   "source": [
    "# Create the BST\n",
    "tree = None\n",
    "for val in [40, 20, 60, 10, 30, 50, 70]:\n",
    "    tree = insert(tree, val)\n",
    "\n",
    "print(\"Inorder:\")\n",
    "inorder(tree)\n",
    "\n",
    "print(\"\\nPreorder:\")\n",
    "preorder(tree)\n",
    "\n",
    "print(\"\\nPostorder:\")\n",
    "postorder(tree)"
   ]
  },
  {
   "cell_type": "code",
   "execution_count": null,
   "id": "0cf55ef8-b114-457c-a6a7-4f0286108ad1",
   "metadata": {},
   "outputs": [],
   "source": []
  }
 ],
 "metadata": {
  "kernelspec": {
   "display_name": "Python 3 (ipykernel)",
   "language": "python",
   "name": "python3"
  },
  "language_info": {
   "codemirror_mode": {
    "name": "ipython",
    "version": 3
   },
   "file_extension": ".py",
   "mimetype": "text/x-python",
   "name": "python",
   "nbconvert_exporter": "python",
   "pygments_lexer": "ipython3",
   "version": "3.13.1"
  }
 },
 "nbformat": 4,
 "nbformat_minor": 5
}
